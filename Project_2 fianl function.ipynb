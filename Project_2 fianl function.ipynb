{
 "cells": [
  {
   "cell_type": "code",
   "execution_count": null,
   "metadata": {},
   "outputs": [],
   "source": [
    "from transformers import BertTokenizer, TFBertModel , TFBertForSequenceClassification\n",
    "from tensorflow.keras.utils import to_categorical\n",
    "from tensorflow.keras.optimizers import Adam\n",
    "from tensorflow.keras.metrics import AUC\n",
    "import tensorflow as tf"
   ]
  },
  {
   "cell_type": "code",
   "execution_count": null,
   "metadata": {},
   "outputs": [],
   "source": [
    "def final_function_1(x):\n",
    "    \"\"\"This function will take the row input comment and predict\n",
    "        all the probablities corresponding to each label.\n",
    "    \"\"\"\n",
    "    #loding bert tokenzier \n",
    "    tokenizer = BertTokenizer.from_pretrained('bert-base-cased')\n",
    "    \n",
    "    # encoding the comment for the input of bert\n",
    "    encoding = tokenizer.encode_plus(x  , max_length = 128 , pad_to_max_length = True  ,do_lower_case = False)\n",
    "    input_ids , attention_id = encoding[\"input_ids\"] , encoding[\"attention_mask\"]\n",
    "    \n",
    "    #loading the best weights for single model\n",
    "    model = tf.keras.models.load_model('C:\\\\Users\\\\my pc\\\\project_2nd final model')\n",
    "    model.load_weights(\"C:\\\\Users\\\\my pc\\\\Downloads\\\\final_model.h5\")\n",
    "    prediction = (model.predict([input_ids , attention_id])\n",
    "    \n",
    "    # final results\n",
    "    return print(\"comment has probablity of being toxic == \" , prediction[0]),\n",
    "           print(\"comment has probablity of being severe_toxic == \" , prediction[1]),\n",
    "           print(\"comment has probablity of being obscene == \" , prediction[2]),\n",
    "           print(\"comment has probablity of being threat == \" , prediction[3]),\n",
    "           print(\"comment has probablity of being insult == \" , prediction[4]),\n",
    "           print(\"comment has probablity of being identity_hate == \" , prediction[5])"
   ]
  },
  {
   "cell_type": "code",
   "execution_count": null,
   "metadata": {},
   "outputs": [],
   "source": [
    "def final_function_2(x , y):\n",
    "    \"\"\"This function will take the row input comment and predict\n",
    "        with the metric.\n",
    "    \"\"\"\n",
    "    y = str(y).lower()\n",
    "    lst = [\"clean\" , \"toxic\" , \"sever\" , \"threat\" ,\"obscene\" , \"insult\" , \"identity_hate\"]\n",
    "    if y in lst:\n",
    "        if y==\"toxic\":\n",
    "            vec = [1, 0, 0, 0 ,0 , 0]\n",
    "        elif y==\"sever_toxic\":\n",
    "            vec = [0, 1 ,0 , 0 ,0 ,0]\n",
    "        elif y==\"obscene\":\n",
    "            vec = [0, 0 ,1 , 0 ,0 ,0]\n",
    "        elif y==\"threat\":\n",
    "            vec = [0, 0 ,0 , 1 ,0 ,0]\n",
    "        elif y==\"insult\":\n",
    "            vec = [0, 0 ,0 , 0 ,1 ,0]\n",
    "        elif y==\"identity_hate\":\n",
    "            vec = [0, 0 ,0 , 0 ,0 ,1]\n",
    "        vec = np.array(vec)\n",
    "        \n",
    "    \n",
    "        #loding bert tokenzier \n",
    "        tokenizer = BertTokenizer.from_pretrained('bert-base-cased')\n",
    "    \n",
    "        # encoding the comment for the input of bert\n",
    "        encoding = tokenizer.encode_plus(x  , max_length = 128 , pad_to_max_length = True  ,do_lower_case = False)\n",
    "        input_ids , attention_id = encoding[\"input_ids\"] , encoding[\"attention_mask\"]\n",
    "    \n",
    "        #loading the best weights for single model\n",
    "        model = tf.keras.models.load_model('C:\\\\Users\\\\my pc\\\\project_2nd final model')\n",
    "        model.load_weights(\"C:\\\\Users\\\\my pc\\\\Downloads\\\\final_modle3.h5\")\n",
    "        prediction = (model.evaluate([input_ids , attention_id]) , vec)\n",
    "        dt = dict(zip(model.metrics_names, prediction))\n",
    "    \n",
    "        # final results\n",
    "        return print(\"The auc of being \"+y+ \" is\", dt[\"auc\"]*100,str(\"%\"))\n",
    "    else:\n",
    "        print(\"Please enter the valid string as real or fake\")\n"
   ]
  }
 ],
 "metadata": {
  "kernelspec": {
   "display_name": "Python 3",
   "language": "python",
   "name": "python3"
  },
  "language_info": {
   "codemirror_mode": {
    "name": "ipython",
    "version": 3
   },
   "file_extension": ".py",
   "mimetype": "text/x-python",
   "name": "python",
   "nbconvert_exporter": "python",
   "pygments_lexer": "ipython3",
   "version": "3.7.4"
  }
 },
 "nbformat": 4,
 "nbformat_minor": 2
}
